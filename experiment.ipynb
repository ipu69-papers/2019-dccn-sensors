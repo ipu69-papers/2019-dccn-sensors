{
 "cells": [
  {
   "cell_type": "code",
   "execution_count": 1,
   "metadata": {
    "pycharm": {
     "is_executing": false,
     "name": "#%%\n"
    }
   },
   "outputs": [],
   "source": [
    "%load_ext autoreload\n",
    "%autoreload 2"
   ]
  },
  {
   "cell_type": "code",
   "execution_count": 2,
   "metadata": {
    "pycharm": {
     "is_executing": false,
     "name": "#%%\n"
    }
   },
   "outputs": [],
   "source": [
    "import matplotlib\n",
    "import matplotlib.pyplot as plt\n",
    "import numpy as np\n",
    "from tqdm import tqdm_notebook, trange, tqdm\n",
    "from collections.abc import Iterable\n",
    "from itertools import product\n",
    "%matplotlib inline"
   ]
  },
  {
   "cell_type": "code",
   "execution_count": 4,
   "metadata": {},
   "outputs": [],
   "source": [
    "matplotlib.rcParams.update({\n",
    "    'font.size': 16,\n",
    "})"
   ]
  },
  {
   "cell_type": "markdown",
   "metadata": {},
   "source": [
    "## 1. Sample topology validation\n",
    "\n",
    "In the numerical experiments we will use a simulation model, implemented in Python language, and available at [GitHub](https://github.com/larioandr/2019-dccn-sensors).\n",
    "\n",
    "To get the numerical results, we assume that the expected time before sensor failure is 4000 hours, repair takes 24 hours in average and the network is considered failed after two or more nodes become unavailable.\n",
    "\n",
    "Before running the numerical experiments, we need to validate the analytic and simulation models by comparing their results on the same topology, shown on fig. \\ref{XXX}. However, to make the results more demonstrative, we will also assume that sensors are close enough to each other, so in case of the intermediate node failure the leaf node can reconnect to another one. The modified topology is shown on the fig. \\ref{XXX}, where solid lines represent active connections, and a dashed line shows a possible alternative connection. \n",
    "  "
   ]
  },
  {
   "cell_type": "code",
   "execution_count": 5,
   "metadata": {
    "pycharm": {
     "is_executing": false,
     "name": "#%%\n"
    }
   },
   "outputs": [],
   "source": [
    "FAILURE_RATE = 1/4000     # 4000 hours - mean interval between failures \n",
    "REPAIR_RATE = 1/24        # 24 hours - mean repair duration\n",
    "CRITICAL_FAILURES = 2     # 2 - number of offline nodes till critical error\n",
    "SIM_TIME_LIMIT = 50*12*30*24  # experiment duration is 50 years"
   ]
  },
  {
   "cell_type": "code",
   "execution_count": 6,
   "metadata": {
    "pycharm": {
     "is_executing": false,
     "name": "#%%\n"
    }
   },
   "outputs": [
    {
     "name": "stderr",
     "output_type": "stream",
     "text": [
      "/Users/andrey/workspace/2019-dccn-sensors/.venv/lib/python3.7/site-packages/networkx/drawing/nx_pylab.py:579: MatplotlibDeprecationWarning: \n",
      "The iterable function was deprecated in Matplotlib 3.1 and will be removed in 3.3. Use np.iterable instead.\n",
      "  if not cb.iterable(width):\n"
     ]
    },
    {
     "data": {
      "image/png": "[encoded data removed]",
      "text/plain": [
       "<Figure size 432x360 with 1 Axes>"
      ]
     },
     "metadata": {},
     "output_type": "display_data"
    }
   ],
   "source": [
    "from senere.topology import Topology, GATEWAY_NODE, SENSOR_NODE\n",
    "from senere.options import defaults as senere_defaults\n",
    "\n",
    "senere_defaults['radio_range'] = 15.0  # This will simplify topology creation\n",
    "senere_defaults['conn_line_width'] = 2.0\n",
    "senere_defaults['neigh_line_width'] = 1.5\n",
    "\n",
    "sample_topology = Topology()\n",
    "sample_topology.nodes.add_from([\n",
    "    {'address': 1, 'node_type': GATEWAY_NODE, 'x': 10.0, 'y': 25.0}, \n",
    "    {'address': 2, 'node_type': SENSOR_NODE, 'x': 2.0, 'y': 15.0},\n",
    "    {'address': 3, 'node_type': SENSOR_NODE, 'x': 18.0, 'y': 15.0},\n",
    "    {'address': 4, 'node_type': SENSOR_NODE, 'x': 13.0, 'y': 5.0},\n",
    "])\n",
    "sample_topology.connections.add_from([(3, 1), (2, 1), (4, 3)])\n",
    "\n",
    "_, ax = plt.subplots(figsize=(6, 5))\n",
    "ax.grid()\n",
    "sample_topology.draw(neigh_edges=True, node_font_size=18, node_size=500, sensor_color='lightblue')"
   ]
  },
  {
   "cell_type": "markdown",
   "metadata": {},
   "source": [
    "We analyze the stationary probability of the system failure, considering two scenarios:\n",
    "\n",
    "1. after node 3 failure, node 4 doesn't reconnect to node 2, and\n",
    "2. after node 3 failure, node 4 reconnects to node 2 (if it is available)\n",
    "\n",
    "The first scenario is the same as the one considered in the analytic model, so we provide results from both simulation and analytic models, while analyzing the second scenario shows the advantage of making use of alternative connections. In both scenarios failures and repairs are assumed to be exponentially distributed. \n",
    "\n",
    "The results are shown in fig. \\ref{XXX}."
   ]
  },
  {
   "cell_type": "code",
   "execution_count": 7,
   "metadata": {},
   "outputs": [],
   "source": [
    "from senere.simulation import simulate_network\n",
    "\n",
    "\n",
    "def variate_failure_rates(topology, mean_failure_intervals, num_runs=1, routing=None, \n",
    "                          repair_interval=None, cons_repair_interval=None, \n",
    "                          num_critical_errors=2, stime_limit=None):\n",
    "    \"\"\"Runs an experiment with a given topology on different failure intervals.\n",
    "    \n",
    "    `topology` parameter may be either a `Topology` object instance, or a callable which\n",
    "    returns a topology. In the second case, a new topology is used at each run, and the\n",
    "    value at each point is an average overall runs.\n",
    "    \n",
    "    `cons_repair_interval` specifies a callable which returns a consequetive repair interval.\n",
    "    If given, it is passed to the simulation, if not - use only `repair_interval`.\n",
    "    \n",
    "    Returns: a dictionary with routing mode keys ('static', 'dynamic') and array values\n",
    "    with experiment results, each point correspond to mean failure interval.\n",
    "    \"\"\"\n",
    "    # 1) Create topologies\n",
    "    try:\n",
    "        topologies = [topology() for _ in range(num_runs)]\n",
    "    except TypeError:\n",
    "        topologies = [topology for _ in range(num_runs)]\n",
    "    \n",
    "    # 2) Define repair intervals and routing:\n",
    "    routing_modes = [routing] if routing is not None else ['static', 'dynamic']\n",
    "    repair_interval = repair_interval or (lambda: np.random.exponential(1 / REPAIR_RATE))\n",
    "    cons_repair_interval = cons_repair_interval or repair_interval\n",
    "    stime_limit = stime_limit or SIM_TIME_LIMIT\n",
    "    \n",
    "    # 3) Run the experiment:\n",
    "    result = {}\n",
    "    for mode in tqdm_notebook(routing_modes, desc='Routing modes'):\n",
    "        avg_operable = []\n",
    "        for mfi in tqdm_notebook(mean_failure_intervals, desc='Mean failure intervals', leave=False):\n",
    "            failure_interval = lambda: np.random.exponential(mfi)\n",
    "            run_results = []\n",
    "            if len(topologies) > 1:\n",
    "                t_iter = tqdm_notebook(topologies, desc='Iterations', leave=False)\n",
    "            else:\n",
    "                t_iter = topologies\n",
    "            for topology in t_iter:\n",
    "                sim_ret = simulate_network(\n",
    "                    topology, \n",
    "                    failure_interval=failure_interval, \n",
    "                    repair_interval=repair_interval,\n",
    "                    cons_repair_interval=cons_repair_interval,\n",
    "                    num_offline_till_repair=num_critical_errors,\n",
    "                    routing_mode=mode,\n",
    "                    stime_limit=stime_limit,\n",
    "                )\n",
    "                run_results.append(sim_ret.operable)\n",
    "            avg_operable.append(np.average(run_results))\n",
    "        result[mode] = avg_operable\n",
    "\n",
    "    return result"
   ]
  },
  {
   "cell_type": "code",
   "execution_count": 8,
   "metadata": {
    "pycharm": {
     "is_executing": false,
     "name": "#%%\n"
    }
   },
   "outputs": [
    {
     "name": "stdout",
     "output_type": "stream",
     "text": [
      "['static', 'dynamic']\n"
     ]
    },
    {
     "data": {
      "application/vnd.jupyter.widget-view+json": {
       "model_id": "de309f4c58a6423cb72327dc822cbdec",
       "version_major": 2,
       "version_minor": 0
      },
      "text/plain": [
       "HBox(children=(IntProgress(value=0, description='Routing modes', max=2, style=ProgressStyle(description_width=…"
      ]
     },
     "metadata": {},
     "output_type": "display_data"
    },
    {
     "data": {
      "application/vnd.jupyter.widget-view+json": {
       "model_id": "",
       "version_major": 2,
       "version_minor": 0
      },
      "text/plain": [
       "HBox(children=(IntProgress(value=0, description='Mean failure intervals', style=ProgressStyle(description_widt…"
      ]
     },
     "metadata": {},
     "output_type": "display_data"
    },
    {
     "data": {
      "application/vnd.jupyter.widget-view+json": {
       "model_id": "",
       "version_major": 2,
       "version_minor": 0
      },
      "text/plain": [
       "HBox(children=(IntProgress(value=0, description='Mean failure intervals', style=ProgressStyle(description_widt…"
      ]
     },
     "metadata": {},
     "output_type": "display_data"
    },
    {
     "name": "stdout",
     "output_type": "stream",
     "text": [
      "\n"
     ]
    }
   ],
   "source": [
    "MEAN_FAILURE_INTERVALS = np.arange(1, 101) * 24\n",
    "\n",
    "exp_1a = variate_failure_rates(sample_topology, MEAN_FAILURE_INTERVALS)"
   ]
  },
  {
   "cell_type": "code",
   "execution_count": 11,
   "metadata": {
    "pycharm": {
     "is_executing": false,
     "name": "#%%\n"
    }
   },
   "outputs": [
    {
     "data": {
      "text/plain": [
       "Text(0, 0.5, 'Probability')"
      ]
     },
     "execution_count": 11,
     "metadata": {},
     "output_type": "execute_result"
    },
    {
     "data": {
      "image/png": "[encoded data removed]",
      "text/plain": [
       "<Figure size 864x288 with 1 Axes>"
      ]
     },
     "metadata": {
      "needs_background": "light"
     },
     "output_type": "display_data"
    }
   ],
   "source": [
    "_, ax = plt.subplots(figsize=(12, 4))\n",
    "ax.plot(MEAN_FAILURE_INTERVALS, exp_1a['static'], '-', label='Static routing')\n",
    "ax.plot(MEAN_FAILURE_INTERVALS, exp_1a['dynamic'], '-', label='Dynamic routing')\n",
    "ax.grid()\n",
    "ax.legend()\n",
    "ax.set_title('Stationary probability that the system is operational')\n",
    "ax.set_xlabel('Average number of hours between failures')\n",
    "ax.set_ylabel('Probability')"
   ]
  },
  {
   "cell_type": "code",
   "execution_count": null,
   "metadata": {},
   "outputs": [],
   "source": [
    "def estimate_failed_trace(topology, num_runs, sample_interval=10, routing=None, \n",
    "                          failure_interval=None, repair_interval=None, cons_repair_interval=None, \n",
    "                          num_critical_errors=2, stime_limit=None):\n",
    "    \"\"\"Record traces for failed and offline nodes number.\n",
    "    \"\"\"\n",
    "    # 1) Define parameters    \n",
    "    routing_modes = [routing] if routing is not None else ['static', 'dynamic']\n",
    "    failure_interval = failure_interval or (lambda: np.random.exponential(1 / FAILURE_RATE))\n",
    "    repair_interval = repair_interval or (lambda: np.random.exponential(1 / REPAIR_RATE))\n",
    "    cons_repair_interval = cons_repair_interval or repair_interval\n",
    "    stime_limit = stime_limit or SIM_TIME_LIMIT\n",
    "    \n",
    "    # 2) Run experiments\n",
    "    result = {}\n",
    "    for routing_mode in tqdm_notebook(routing_modes, desc='Routing modes'):\n",
    "        sim_ret = simulate_network(\n",
    "            topology, \n",
    "            num_runs=num_runs,\n",
    "            record_samples=True,\n",
    "            sample_interval=sample_interval,\n",
    "            failure_interval=failure_interval, \n",
    "            repair_interval=repair_interval,\n",
    "            cons_repair_interval=cons_repair_interval,\n",
    "            num_offline_till_repair=num_critical_errors,\n",
    "            routing_mode=routing_mode,\n",
    "            stime_limit=stime_limit,\n",
    "        )\n",
    "        record = {\n",
    "            'failed': sim_ret.num_failed_sampled,\n",
    "            'offline': sim_ret.num_offline_sampled,\n",
    "        }\n",
    "        result[routing_mode] = {}\n",
    "        result[routing_mode]= \n",
    "\n",
    "    return result        "
   ]
  },
  {
   "cell_type": "markdown",
   "metadata": {},
   "source": [
    "## 2. Forest topology\n",
    "\n",
    "In the second experiment we study forest topologies, where a gateway is placed at the root of each tree."
   ]
  },
  {
   "cell_type": "code",
   "execution_count": null,
   "metadata": {},
   "outputs": [],
   "source": []
  },
  {
   "cell_type": "code",
   "execution_count": null,
   "metadata": {},
   "outputs": [],
   "source": [
    "from senere.topology import build_forest_topology\n",
    "\n",
    "forest_example = build_forest_topology(num_trees=2, arity=3, depth=3, dx=10, dy=50, roe=0.01, dt=14)\n",
    "\n",
    "_, ax = plt.subplots(figsize=(20, 6))\n",
    "ax.grid()\n",
    "forest_example.draw(ax=ax, draw_neigh_edges=True)"
   ]
  },
  {
   "cell_type": "code",
   "execution_count": null,
   "metadata": {},
   "outputs": [],
   "source": [
    "NUM_RUNS_2 = 1\n",
    "\n",
    "mean_failure_intervals_2 = np.arange(1, 101) * 24\n",
    "\n",
    "failure_rates = 1 / mean_failure_intervals_2\n",
    "\n",
    "print('- Running experiment #2.1')\n",
    "\n",
    "experiment_2_1 = [simulate_network(\n",
    "    forest_example,\n",
    "    failure_interval=lambda: np.random.exponential(1/r),\n",
    "    repair_interval=lambda: np.random.exponential(1/REPAIR_RATE),\n",
    "    num_offline_till_repair=CRITICAL_FAILURES,\n",
    "    stime_limit=10*12*30*24,\n",
    "    num_runs=NUM_RUNS_1,\n",
    "    routing_mode='static',\n",
    ") for r in tqdm_notebook(failure_rates)]\n",
    "\n",
    "print('- Running experiment #2.2')\n",
    "\n",
    "experiment_2_2 = [simulate_network(\n",
    "    forest_example,\n",
    "    failure_interval=lambda: np.random.exponential(1/r),\n",
    "    repair_interval=lambda: np.random.exponential(1/REPAIR_RATE),\n",
    "    num_offline_till_repair=CRITICAL_FAILURES,\n",
    "    stime_limit=10*12*30*24,\n",
    "    num_runs=NUM_RUNS_1,\n",
    "    routing_mode='dynamic',\n",
    ") for r in tqdm_notebook(failure_rates)]\n",
    "\n",
    "print('= Finished')"
   ]
  },
  {
   "cell_type": "code",
   "execution_count": null,
   "metadata": {},
   "outputs": [],
   "source": [
    "_, ax = plt.subplots(figsize=(12, 4))\n",
    "ax.plot(mean_failure_intervals_2, [r.operable for r in experiment_2_1], label='No re-connection after failure')\n",
    "ax.plot(mean_failure_intervals_2, [r.operable for r in experiment_2_2], label='Reconnecting after failure')\n",
    "ax.grid()\n",
    "ax.legend()\n",
    "ax.set_title('Stationary probability that the system is operational')\n",
    "ax.set_xlabel('Average number of hours between failures')\n",
    "ax.set_ylabel('Probability')"
   ]
  },
  {
   "cell_type": "code",
   "execution_count": null,
   "metadata": {},
   "outputs": [],
   "source": [
    "##### NUM_RUNS_1 = 2\n",
    "\n",
    "def to_list(x):\n",
    "    if not isinstance(x, Iterable):\n",
    "        return [x]\n",
    "    return x\n",
    "\n",
    "\n",
    "def estimate_forest_operability(num_trees, arity, depth, failure_rate, routing_mode, num_critical_failures):\n",
    "    dx = kwargs.get('dx', 10)\n",
    "    dy = kwargs.get('dy', 50)\n",
    "    roe = kwargs.get('roe', 0.01)\n",
    "    dt = kwargs.get('dt', 14)\n",
    "    \n",
    "    num_trees = to_list(num_trees)\n",
    "    arity = to_list(arity)\n",
    "    depth = to_list(depth)\n",
    "    failure_rate = to_list(failure_rate)\n",
    "    routing_mode = to_list(routing_mode)\n",
    "    num_critical_failures = to_list(num_critical_failures)\n",
    "    \n",
    "    parameters = product(num_trees, arity, depth, failure_rate, routing_mode, num_critical_failures)\n",
    "    \n",
    "    \n",
    "    \n",
    "    for _num_trees, _arity, _depth, _failure_rate, _routing_mode, _num_critical_failures in trange(parameters):\n",
    "        topology\n",
    "    \n",
    "    \n",
    "failure_rates = 1 / mean_failure_intervals_1\n",
    "\n",
    "experiment_2_fixed = {\n",
    "    'static': [\n",
    "        simulate_network(\n",
    "            build_forest_topology(num_trees=2, arity=3, depth=3, dx=10, dy=50, roe=0.01, dt=14),\n",
    "            failure_interval=lambda: np.random.exponential(1/r),\n",
    "            repair_interval=lambda: np.random.exponential(1/REPAIR_RATE),\n",
    "            num_offline_till_repair=CRITICAL_FAILURES,\n",
    "            stime_limit=SIM_TIME_LIMIT,\n",
    "            num_runs=NUM_RUNS_2,\n",
    "            routing_mode='static',\n",
    "        ) for r in tqdm_notebook(failure_rates)],\n",
    "    'dynamic': [simulate_network(\n",
    "        build_forest_topology(num_trees=2, arity=3, depth=3, dx=10, dy=50, roe=0.01, dt=14),\n",
    "        failure_interval=lambda: np.random.exponential(1/r),\n",
    "        repair_interval=lambda: np.random.exponential(1/REPAIR_RATE),\n",
    "        num_offline_till_repair=CRITICAL_FAILURES,\n",
    "        stime_limit=SIM_TIME_LIMIT,\n",
    "        num_runs=NUM_RUNS_2,\n",
    "        routing_mode='static',\n",
    "    ) for r in tqdm_notebook(failure_rates)],\n",
    "}"
   ]
  },
  {
   "cell_type": "markdown",
   "metadata": {},
   "source": [
    "## 3. Random topology\n",
    "\n",
    "In the third experiment we consider completely random topologies."
   ]
  },
  {
   "cell_type": "code",
   "execution_count": null,
   "metadata": {},
   "outputs": [],
   "source": [
    "from senere.topology import build_random_topology\n",
    "\n",
    "random_topology_example = build_random_topology(4, 100, radio_range=40, min_distance=20, \n",
    "                                                min_gw_distance=30, max_gw_distance=140)\n",
    "\n",
    "_, ax = plt.subplots(figsize=(20, 10))\n",
    "ax.grid()\n",
    "random_topology_example.draw(ax=ax, draw_neigh_edges=True)"
   ]
  },
  {
   "cell_type": "code",
   "execution_count": null,
   "metadata": {},
   "outputs": [],
   "source": []
  }
 ],
 "metadata": {
  "kernelspec": {
   "display_name": "Python 3",
   "language": "python",
   "name": "python3"
  },
  "language_info": {
   "codemirror_mode": {
    "name": "ipython",
    "version": 3
   },
   "file_extension": ".py",
   "mimetype": "text/x-python",
   "name": "python",
   "nbconvert_exporter": "python",
   "pygments_lexer": "ipython3",
   "version": "3.7.2"
  },
  "pycharm": {
   "stem_cell": {
    "cell_type": "raw",
    "metadata": {
     "collapsed": false
    },
    "source": []
   }
  }
 },
 "nbformat": 4,
 "nbformat_minor": 1
}
